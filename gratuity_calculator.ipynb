{
 "cells": [
  {
   "cell_type": "markdown",
   "id": "d793e75a-45f4-46cf-8a57-7fe381456727",
   "metadata": {},
   "source": [
    "**Description:**\n",
    "  \n",
    "This script calculates the gratuity and total bill amount based on a given subtotal and gratuity percentage.\n"
   ]
  },
  {
   "cell_type": "code",
   "execution_count": null,
   "id": "7164951e-48d9-448b-aaeb-137b6ca1cf47",
   "metadata": {},
   "outputs": [],
   "source": [
    "def calculate_gratuity():\n",
    "    \"\"\"Calculates gratuity and total bill amount.\"\"\"\n",
    "    try:\n",
    "        subtotal = float(input(\"Enter the subtotal: \"))\n",
    "        gratuity_rate = float(input(\"Enter the gratuity rate (%): \"))\n",
    "        \n",
    "        gratuity = subtotal * (gratuity_rate / 100)\n",
    "        total = subtotal + gratuity\n",
    "        \n",
    "        print(f\"The gratuity is {gratuity:.2f} and the total bill is {total:.2f}\")\n",
    "    except ValueError:\n",
    "        print(\"Invalid input. Please enter numeric values.\")\n",
    "\n",
    "def main():\n",
    "    \"\"\"Main function to execute gratuity calculation.\"\"\"\n",
    "    calculate_gratuity()\n",
    "\n",
    "if __name__ == \"__main__\":\n",
    "    main()\n"
   ]
  }
 ],
 "metadata": {
  "kernelspec": {
   "display_name": "Python 3 (ipykernel)",
   "language": "python",
   "name": "python3"
  },
  "language_info": {
   "codemirror_mode": {
    "name": "ipython",
    "version": 3
   },
   "file_extension": ".py",
   "mimetype": "text/x-python",
   "name": "python",
   "nbconvert_exporter": "python",
   "pygments_lexer": "ipython3",
   "version": "3.13.2"
  }
 },
 "nbformat": 4,
 "nbformat_minor": 5
}
